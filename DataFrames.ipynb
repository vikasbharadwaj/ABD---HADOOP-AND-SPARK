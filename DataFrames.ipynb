{
 "cells": [
  {
   "cell_type": "code",
   "execution_count": 1,
   "metadata": {},
   "outputs": [],
   "source": [
    "import pyspark\n",
    "from pyspark.sql import SparkSession\n",
    "spark = SparkSession.builder.appName('DataFrame').getOrCreate()"
   ]
  },
  {
   "cell_type": "code",
   "execution_count": 2,
   "metadata": {},
   "outputs": [],
   "source": [
    "# create DataFrame through RDD\n",
    "\n",
    "columns = ['currency', 'value']\n",
    "inputdata = [('Euro', 90), ('Pound', 100), ('Yuan', 11), ('Yen', 2), ('US Dollar', 74), ('K Dinar', 242)]\n",
    "\n",
    "# RDD\n",
    "rdd = spark.sparkContext.parallelize(inputdata)\n",
    "rddDF = rdd.toDF()\n",
    "df = rddDF.withColumnRenamed('_1', 'Currency')\n",
    "#df.show()\n",
    "df = spark.createDataFrame(rdd).toDF(*columns)\n",
    "#df.show()"
   ]
  },
  {
   "cell_type": "code",
   "execution_count": 3,
   "metadata": {},
   "outputs": [],
   "source": [
    "# Create DataFrame\n",
    "\n",
    "df = spark.createDataFrame(data=inputdata, schema=columns)\n",
    "#df.show()"
   ]
  },
  {
   "cell_type": "code",
   "execution_count": 4,
   "metadata": {},
   "outputs": [],
   "source": [
    "#Writing df content to CSV\n",
    "\n",
    "df.write.format('csv').save('D:/test')"
   ]
  },
  {
   "cell_type": "code",
   "execution_count": 5,
   "metadata": {},
   "outputs": [],
   "source": [
    "# write without partition\n",
    "df.repartition(1).write.format('csv').save('D:/csv', header=True)"
   ]
  },
  {
   "cell_type": "code",
   "execution_count": 6,
   "metadata": {},
   "outputs": [],
   "source": [
    "# Write DF content to text file through RDD\n",
    "df.rdd.map(lambda x: x[0] + \",\" +str(x[1])).repartition(1).saveAsTextFile('D:/Text')"
   ]
  },
  {
   "cell_type": "code",
   "execution_count": 7,
   "metadata": {},
   "outputs": [],
   "source": [
    "# Reading Data to DataFrame from datasource (csv)\n",
    "df = spark.read.format('csv')\\\n",
    "    .option('header', 'true')\\\n",
    "    .option('inferSchema', 'true')\\\n",
    "    .load('D:/Dataset/flight-data/csv/2015-summary.csv')\n",
    "#df.show()"
   ]
  },
  {
   "cell_type": "code",
   "execution_count": 8,
   "metadata": {},
   "outputs": [],
   "source": [
    "from pyspark.sql.functions import col, expr, column, udf, date_sub, date_add, col, datediff, regexp_extract\n",
    "from pyspark.sql.types import StringType, IntegerType\n",
    "\n",
    "# various ways of selecting columns\n",
    "\n",
    "#df.select(col('DEST_COUNTRY_NAME')).show(5, False)\n",
    "\n",
    "#df.select(column('DEST_COUNTRY_NAME')).show(5, False)\n",
    "\n",
    "#df.select('DEST_COUNTRY_NAME').show(5, False)\n",
    "\n",
    "#df.select('DEST_COUNTRY_NAME', 'ORIGIN_COUNTRY_NAME').show(5, False)\n",
    "\n",
    "#df.select(expr('DEST_COUNTRY_NAME AS Destination')) .show(5, False)\n",
    "#df.select('DEST_COUNTRY_NAME').show(5, False)\n"
   ]
  },
  {
   "cell_type": "code",
   "execution_count": 9,
   "metadata": {
    "collapsed": true
   },
   "outputs": [
    {
     "name": "stdout",
     "output_type": "stream",
     "text": [
      "+-----------------+-------------------+-----+-------------+\n",
      "|DEST_COUNTRY_NAME|ORIGIN_COUNTRY_NAME|count|withinCountry|\n",
      "+-----------------+-------------------+-----+-------------+\n",
      "|United States    |Romania            |15   |false        |\n",
      "|United States    |Croatia            |1    |false        |\n",
      "|United States    |Ireland            |344  |false        |\n",
      "|Egypt            |United States      |15   |false        |\n",
      "|United States    |India              |62   |false        |\n",
      "+-----------------+-------------------+-----+-------------+\n",
      "only showing top 5 rows\n",
      "\n"
     ]
    }
   ],
   "source": [
    "# add column to dataframe\n",
    "df.withColumn('withinCountry', expr('ORIGIN_COUNTRY_NAME == DEST_COUNTRY_NAME')).show(5, False)"
   ]
  },
  {
   "cell_type": "code",
   "execution_count": 10,
   "metadata": {
    "collapsed": true
   },
   "outputs": [
    {
     "name": "stdout",
     "output_type": "stream",
     "text": [
      "+-----------------+-------------------+-----+---------+\n",
      "|DEST_COUNTRY_NAME|ORIGIN_COUNTRY_NAME|count|Frequency|\n",
      "+-----------------+-------------------+-----+---------+\n",
      "|United States    |Romania            |15   |Normal   |\n",
      "|United States    |Croatia            |1    |Min      |\n",
      "|United States    |Ireland            |344  |Busy     |\n",
      "|Egypt            |United States      |15   |Normal   |\n",
      "|United States    |India              |62   |More     |\n",
      "+-----------------+-------------------+-----+---------+\n",
      "only showing top 5 rows\n",
      "\n"
     ]
    }
   ],
   "source": [
    "# Adding column by user defined function\n",
    "\n",
    "def computeGroup(count):\n",
    "    if count < 2:\n",
    "        return 'Min'\n",
    "    elif count < 20:\n",
    "        return 'Normal'\n",
    "    elif count < 100:\n",
    "        return 'More'\n",
    "    else:\n",
    "        return 'Busy'\n",
    "\n",
    "group_udf = udf(computeGroup, StringType())\n",
    "df.withColumn('Frequency', group_udf(col('count'))).show(5, False)"
   ]
  },
  {
   "cell_type": "code",
   "execution_count": 11,
   "metadata": {},
   "outputs": [],
   "source": [
    "# Movie Dataset\n",
    "\n",
    "movieDf = spark.read.format('csv')\\\n",
    "    .option('header', 'true')\\\n",
    "    .option('inferSchema', 'true')\\\n",
    "    .load('D:/Dataset/movie.csv')\n",
    "#movieDf.show()\n",
    "\n",
    "movieYear = movieDf.withColumn('Year',regexp_extract(col('title'), r\"(\\d\\d\\d\\d)\", 1).cast(IntegerType()))\n",
    "cleanedMovie = movieYear.na.drop()\n"
   ]
  },
  {
   "cell_type": "code",
   "execution_count": 12,
   "metadata": {},
   "outputs": [],
   "source": [
    "def calDecade(years):\n",
    "    return (years - years%10)\n",
    "\n",
    "decadeudf = udf(calDecade, IntegerType())\n",
    "movieDecade = cleanedMovie.withColumn('Decade', decadeudf(col('Year')).cast(IntegerType()))\n",
    "#movieDecade.show()\n",
    "\n",
    "#movieDecade.filter('Decade == 1990').show()"
   ]
  },
  {
   "cell_type": "code",
   "execution_count": null,
   "metadata": {},
   "outputs": [],
   "source": []
  }
 ],
 "metadata": {
  "kernelspec": {
   "display_name": "Python 3",
   "language": "python",
   "name": "python3"
  },
  "language_info": {
   "codemirror_mode": {
    "name": "ipython",
    "version": 3
   },
   "file_extension": ".py",
   "mimetype": "text/x-python",
   "name": "python",
   "nbconvert_exporter": "python",
   "pygments_lexer": "ipython3",
   "version": "3.7.6"
  }
 },
 "nbformat": 4,
 "nbformat_minor": 4
}
